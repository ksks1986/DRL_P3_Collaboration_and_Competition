{
 "cells": [
  {
   "cell_type": "markdown",
   "metadata": {},
   "source": [
    "# Collaboration and Competition\n",
    "\n",
    "---\n",
    "\n",
    "You are welcome to use this coding environment to train your agent for the project.  Follow the instructions below to get started!\n",
    "\n",
    "### 1. Start the Environment\n",
    "\n",
    "Run the next code cell to install a few packages.  This line will take a few minutes to run!"
   ]
  },
  {
   "cell_type": "code",
   "execution_count": 1,
   "metadata": {},
   "outputs": [],
   "source": [
    "!pip -q install ./python"
   ]
  },
  {
   "cell_type": "markdown",
   "metadata": {},
   "source": [
    "The environment is already saved in the Workspace and can be accessed at the file path provided below. "
   ]
  },
  {
   "cell_type": "code",
   "execution_count": 2,
   "metadata": {},
   "outputs": [
    {
     "name": "stderr",
     "output_type": "stream",
     "text": [
      "INFO:unityagents:\n",
      "'Academy' started successfully!\n",
      "Unity Academy name: Academy\n",
      "        Number of Brains: 1\n",
      "        Number of External Brains : 1\n",
      "        Lesson number : 0\n",
      "        Reset Parameters :\n",
      "\t\t\n",
      "Unity brain name: TennisBrain\n",
      "        Number of Visual Observations (per agent): 0\n",
      "        Vector Observation space type: continuous\n",
      "        Vector Observation space size (per agent): 8\n",
      "        Number of stacked Vector Observation: 3\n",
      "        Vector Action space type: continuous\n",
      "        Vector Action space size (per agent): 2\n",
      "        Vector Action descriptions: , \n"
     ]
    }
   ],
   "source": [
    "from unityagents import UnityEnvironment\n",
    "import numpy as np\n",
    "\n",
    "env = UnityEnvironment(file_name=\"/data/Tennis_Linux_NoVis/Tennis\")"
   ]
  },
  {
   "cell_type": "markdown",
   "metadata": {},
   "source": [
    "Environments contain **_brains_** which are responsible for deciding the actions of their associated agents. Here we check for the first brain available, and set it as the default brain we will be controlling from Python."
   ]
  },
  {
   "cell_type": "code",
   "execution_count": 3,
   "metadata": {},
   "outputs": [],
   "source": [
    "# get the default brain\n",
    "brain_name = env.brain_names[0]\n",
    "brain = env.brains[brain_name]"
   ]
  },
  {
   "cell_type": "markdown",
   "metadata": {},
   "source": [
    "### 2. Examine the State and Action Spaces\n",
    "\n",
    "Run the code cell below to print some information about the environment."
   ]
  },
  {
   "cell_type": "code",
   "execution_count": 4,
   "metadata": {},
   "outputs": [
    {
     "name": "stdout",
     "output_type": "stream",
     "text": [
      "Number of agents: 2\n",
      "Size of each action: 2\n",
      "There are 2 agents. Each observes a state with length: 24\n",
      "The state for the first agent looks like: [ 0.          0.          0.          0.          0.          0.          0.\n",
      "  0.          0.          0.          0.          0.          0.          0.\n",
      "  0.          0.         -6.65278625 -1.5        -0.          0.\n",
      "  6.83172083  6.         -0.          0.        ]\n"
     ]
    }
   ],
   "source": [
    "# reset the environment\n",
    "env_info = env.reset(train_mode=True)[brain_name]\n",
    "\n",
    "# number of agents \n",
    "num_agents = len(env_info.agents)\n",
    "print('Number of agents:', num_agents)\n",
    "\n",
    "# size of each action\n",
    "action_size = brain.vector_action_space_size\n",
    "print('Size of each action:', action_size)\n",
    "\n",
    "# examine the state space \n",
    "states = env_info.vector_observations\n",
    "state_size = states.shape[1]\n",
    "print('There are {} agents. Each observes a state with length: {}'.format(states.shape[0], state_size))\n",
    "print('The state for the first agent looks like:', states[0])"
   ]
  },
  {
   "cell_type": "markdown",
   "metadata": {},
   "source": [
    "### 3. Take Random Actions in the Environment\n",
    "\n",
    "In the next code cell, you will learn how to use the Python API to control the agent and receive feedback from the environment.\n",
    "\n",
    "Note that **in this coding environment, you will not be able to watch the agents while they are training**, and you should set `train_mode=True` to restart the environment."
   ]
  },
  {
   "cell_type": "code",
   "execution_count": 5,
   "metadata": {},
   "outputs": [
    {
     "name": "stdout",
     "output_type": "stream",
     "text": [
      "Total score (averaged over agents) this episode: -0.004999999888241291\n",
      "Total score (averaged over agents) this episode: -0.004999999888241291\n",
      "Total score (averaged over agents) this episode: -0.004999999888241291\n",
      "Total score (averaged over agents) this episode: -0.004999999888241291\n",
      "Total score (averaged over agents) this episode: -0.004999999888241291\n"
     ]
    }
   ],
   "source": [
    "for i in range(5):                                         # play game for 5 episodes\n",
    "    env_info = env.reset(train_mode=False)[brain_name]     # reset the environment    \n",
    "    states = env_info.vector_observations                  # get the current state (for each agent)\n",
    "    scores = np.zeros(num_agents)                          # initialize the score (for each agent)\n",
    "    while True:\n",
    "        actions = np.random.randn(num_agents, action_size) # select an action (for each agent)\n",
    "        actions = np.clip(actions, -1, 1)                  # all actions between -1 and 1\n",
    "        env_info = env.step(actions)[brain_name]           # send all actions to tne environment\n",
    "        next_states = env_info.vector_observations         # get next state (for each agent)\n",
    "        rewards = env_info.rewards                         # get reward (for each agent)\n",
    "        dones = env_info.local_done                        # see if episode finished\n",
    "        scores += env_info.rewards                         # update the score (for each agent)\n",
    "        states = next_states                               # roll over states to next time step\n",
    "        if np.any(dones):                                  # exit loop if episode finished\n",
    "            break\n",
    "    print('Total score (averaged over agents) this episode: {}'.format(np.mean(scores)))"
   ]
  },
  {
   "cell_type": "markdown",
   "metadata": {},
   "source": [
    "When finished, you can close the environment."
   ]
  },
  {
   "cell_type": "markdown",
   "metadata": {},
   "source": [
    "### 4. It's Your Turn!\n",
    "\n",
    "Now it's your turn to train your own agent to solve the environment!  A few **important notes**:\n",
    "- When training the environment, set `train_mode=True`, so that the line for resetting the environment looks like the following:\n",
    "```python\n",
    "env_info = env.reset(train_mode=True)[brain_name]\n",
    "```\n",
    "- To structure your work, you're welcome to work directly in this Jupyter notebook, or you might like to start over with a new file!  You can see the list of files in the workspace by clicking on **_Jupyter_** in the top left corner of the notebook.\n",
    "- In this coding environment, you will not be able to watch the agents while they are training.  However, **_after training the agents_**, you can download the saved model weights to watch the agents on your own machine! "
   ]
  },
  {
   "cell_type": "code",
   "execution_count": 6,
   "metadata": {},
   "outputs": [],
   "source": [
    "import random\n",
    "import torch\n",
    "import numpy as np\n",
    "from collections import deque\n",
    "import matplotlib.pyplot as plt\n",
    "%matplotlib inline\n",
    "\n",
    "from ddpg_agent import Agent\n",
    "\n",
    "agent = Agent(state_size=24, action_size=2, random_seed=2)"
   ]
  },
  {
   "cell_type": "code",
   "execution_count": 7,
   "metadata": {},
   "outputs": [
    {
     "name": "stdout",
     "output_type": "stream",
     "text": [
      "Episode 6\tAverage Score: -0.00"
     ]
    },
    {
     "name": "stderr",
     "output_type": "stream",
     "text": [
      "/home/workspace/ddpg_agent.py:133: UserWarning: torch.nn.utils.clip_grad_norm is now deprecated in favor of torch.nn.utils.clip_grad_norm_.\n",
      "  torch.nn.utils.clip_grad_norm(self.critic_local.parameters(), 1)\n"
     ]
    },
    {
     "name": "stdout",
     "output_type": "stream",
     "text": [
      "Episode 100\tAverage Score: -0.00\n",
      "Episode 200\tAverage Score: -0.00\n",
      "Episode 300\tAverage Score: -0.00\n",
      "Episode 400\tAverage Score: 0.010\n",
      "Episode 500\tAverage Score: 0.01\n",
      "Episode 600\tAverage Score: 0.01\n",
      "Episode 700\tAverage Score: 0.000\n",
      "Episode 800\tAverage Score: 0.08\n",
      "Episode 900\tAverage Score: 0.05\n",
      "Episode 1000\tAverage Score: 0.05\n",
      "Episode 1100\tAverage Score: 0.05\n",
      "Episode 1200\tAverage Score: 0.05\n",
      "Episode 1300\tAverage Score: 0.14\n",
      "Episode 1400\tAverage Score: 0.30\n",
      "Episode 1495\tAverage Score: 0.50\n",
      "Environment solved in 1395 episodes!\tAverage Score: 0.50\n",
      "model is saved\n",
      "Episode 1496\tAverage Score: 0.51\n",
      "Environment solved in 1396 episodes!\tAverage Score: 0.51\n",
      "model is saved\n",
      "Episode 1497\tAverage Score: 0.51\n",
      "Environment solved in 1397 episodes!\tAverage Score: 0.51\n",
      "model is saved\n",
      "Episode 1498\tAverage Score: 0.51\n",
      "Environment solved in 1398 episodes!\tAverage Score: 0.51\n",
      "model is saved\n",
      "Episode 1499\tAverage Score: 0.53\n",
      "Environment solved in 1399 episodes!\tAverage Score: 0.53\n",
      "model is saved\n",
      "Episode 1500\tAverage Score: 0.53\n",
      "\n",
      "Environment solved in 1400 episodes!\tAverage Score: 0.53\n",
      "Episode 1501\tAverage Score: 0.55\n",
      "Environment solved in 1401 episodes!\tAverage Score: 0.55\n",
      "model is saved\n",
      "Episode 1502\tAverage Score: 0.58\n",
      "Environment solved in 1402 episodes!\tAverage Score: 0.58\n",
      "model is saved\n",
      "Episode 1503\tAverage Score: 0.58\n",
      "Environment solved in 1403 episodes!\tAverage Score: 0.58\n",
      "Episode 1504\tAverage Score: 0.60\n",
      "Environment solved in 1404 episodes!\tAverage Score: 0.60\n",
      "model is saved\n",
      "Episode 1505\tAverage Score: 0.62\n",
      "Environment solved in 1405 episodes!\tAverage Score: 0.62\n",
      "model is saved\n",
      "Episode 1506\tAverage Score: 0.65\n",
      "Environment solved in 1406 episodes!\tAverage Score: 0.65\n",
      "model is saved\n",
      "Episode 1507\tAverage Score: 0.67\n",
      "Environment solved in 1407 episodes!\tAverage Score: 0.67\n",
      "model is saved\n",
      "Episode 1508\tAverage Score: 0.69\n",
      "Environment solved in 1408 episodes!\tAverage Score: 0.69\n",
      "model is saved\n",
      "Episode 1509\tAverage Score: 0.72\n",
      "Environment solved in 1409 episodes!\tAverage Score: 0.72\n",
      "model is saved\n",
      "Episode 1510\tAverage Score: 0.74\n",
      "Environment solved in 1410 episodes!\tAverage Score: 0.74\n",
      "model is saved\n",
      "Episode 1511\tAverage Score: 0.74\n",
      "Environment solved in 1411 episodes!\tAverage Score: 0.74\n",
      "model is saved\n",
      "Episode 1512\tAverage Score: 0.76\n",
      "Environment solved in 1412 episodes!\tAverage Score: 0.76\n",
      "model is saved\n",
      "Episode 1513\tAverage Score: 0.77\n",
      "Environment solved in 1413 episodes!\tAverage Score: 0.77\n",
      "model is saved\n",
      "Episode 1514\tAverage Score: 0.78\n",
      "Environment solved in 1414 episodes!\tAverage Score: 0.78\n",
      "model is saved\n",
      "Episode 1515\tAverage Score: 0.80\n",
      "Environment solved in 1415 episodes!\tAverage Score: 0.80\n",
      "model is saved\n",
      "Episode 1516\tAverage Score: 0.82\n",
      "Environment solved in 1416 episodes!\tAverage Score: 0.82\n",
      "model is saved\n",
      "Episode 1517\tAverage Score: 0.85\n",
      "Environment solved in 1417 episodes!\tAverage Score: 0.85\n",
      "model is saved\n",
      "Episode 1518\tAverage Score: 0.87\n",
      "Environment solved in 1418 episodes!\tAverage Score: 0.87\n",
      "model is saved\n",
      "Episode 1519\tAverage Score: 0.90\n",
      "Environment solved in 1419 episodes!\tAverage Score: 0.90\n",
      "model is saved\n",
      "Episode 1520\tAverage Score: 0.91\n",
      "Environment solved in 1420 episodes!\tAverage Score: 0.91\n",
      "model is saved\n"
     ]
    },
    {
     "data": {
      "image/png": "[encoded data removed]",
      "text/plain": [
       "<matplotlib.figure.Figure at 0x7f72c9630fd0>"
      ]
     },
     "metadata": {
      "needs_background": "light"
     },
     "output_type": "display_data"
    }
   ],
   "source": [
    "def ddpg(n_episodes=200, max_t=1000):\n",
    "    \"\"\"DDPG\n",
    "    \n",
    "    Params\n",
    "    ======\n",
    "        n_episodes (int): maximum number of training episodes\n",
    "        max_t (int): maximum number of timesteps per episode\n",
    "    \"\"\"\n",
    "    scores_list = []                        # list containing scores from each episode\n",
    "    scores_window = deque(maxlen=100)       # last 100 scores\n",
    "    best_score = 0\n",
    "    \n",
    "    for i_episode in range(1, n_episodes+1):\n",
    "        env_info = env.reset(train_mode=True)[brain_name]\n",
    "        states = env_info.vector_observations\n",
    "        scores = np.zeros(num_agents)                          # initialize the score (for each agent)        \n",
    "        \n",
    "        for t in range(max_t):\n",
    "            actions = agent.act(states)\n",
    "            env_info = env.step(actions)[brain_name]           # send the action to the environment\n",
    "            next_states = env_info.vector_observations         # get next state (for each agent)\n",
    "            rewards = env_info.rewards                         # get reward (for each agent)\n",
    "            dones = env_info.local_done                        # see if episode finished\n",
    "            \n",
    "            agent.step(states, actions, rewards, next_states, dones)\n",
    "\n",
    "            scores += env_info.rewards                         # update the score (for each agent)\n",
    "            states = next_states                               # roll over states to next time step\n",
    "            \n",
    "            if np.any(dones):                                  # exit loop if episode finished\n",
    "                break            \n",
    "                \n",
    "        scores_window.append(np.mean(scores))            # save most recent score\n",
    "        scores_list.append(np.mean(scores))              # save most recent score\n",
    "                \n",
    "        print('\\rEpisode {}\\tAverage Score: {:.2f}'.format(i_episode, np.mean(scores_window)), end=\"\")\n",
    "        if i_episode % 100 == 0:\n",
    "            print('\\rEpisode {}\\tAverage Score: {:.2f}'.format(i_episode, np.mean(scores_window)))\n",
    "        if np.mean(scores_window)>=0.5:\n",
    "            print('\\nEnvironment solved in {:d} episodes!\\tAverage Score: {:.2f}'.format(i_episode-100, np.mean(scores_window)))\n",
    "\n",
    "            if np.mean(scores_window) > best_score:\n",
    "                torch.save(agent.actor_local.state_dict(), 'checkpoint_actor.pth')\n",
    "                torch.save(agent.critic_local.state_dict(), 'checkpoint_critic.pth')            \n",
    "                best_score = np.mean(scores_window)\n",
    "                print('model is saved')\n",
    "            \n",
    "            if np.mean(scores_window)>=0.9:\n",
    "                break\n",
    "                \n",
    "    return scores_list\n",
    "\n",
    "\n",
    "scores = ddpg(10000)\n",
    "\n",
    "# plot the scores\n",
    "fig = plt.figure()\n",
    "ax = fig.add_subplot(111)\n",
    "plt.plot(np.arange(len(scores)), scores)\n",
    "plt.ylabel('Score')\n",
    "plt.xlabel('Episode #')\n",
    "plt.show()\n"
   ]
  },
  {
   "cell_type": "code",
   "execution_count": 8,
   "metadata": {},
   "outputs": [],
   "source": [
    "#torch.save(agent.actor_local.state_dict(), 'checkpoint_actor.pth')\n",
    "#torch.save(agent.critic_local.state_dict(), 'checkpoint_critic.pth')"
   ]
  },
  {
   "cell_type": "code",
   "execution_count": 9,
   "metadata": {},
   "outputs": [
    {
     "data": {
      "image/png": "[encoded data removed]",
      "text/plain": [
       "<matplotlib.figure.Figure at 0x7f72c96300b8>"
      ]
     },
     "metadata": {
      "needs_background": "light"
     },
     "output_type": "display_data"
    }
   ],
   "source": [
    "fig = plt.figure()\n",
    "ax = fig.add_subplot(111)\n",
    "plt.plot(np.arange(len(scores)), scores)\n",
    "plt.ylabel('Score')\n",
    "plt.xlabel('Episode #')\n",
    "plt.savefig('result.png')"
   ]
  },
  {
   "cell_type": "code",
   "execution_count": 16,
   "metadata": {},
   "outputs": [
    {
     "data": {
      "image/png": "[encoded data removed]",
      "text/plain": [
       "<matplotlib.figure.Figure at 0x7f72a872ad68>"
      ]
     },
     "metadata": {
      "needs_background": "light"
     },
     "output_type": "display_data"
    }
   ],
   "source": [
    "fig = plt.figure()\n",
    "ax = fig.add_subplot(111)\n",
    "\n",
    "num_ma=100\n",
    "ma_cor = np.ones(num_ma) / num_ma\n",
    "scores_moving_ave = np.convolve(scores, ma_cor, mode='same') #moving average\n",
    "\n",
    "plt.plot(np.arange(len(scores_moving_ave) - int(num_ma/2)), scores_moving_ave[:-int(num_ma/2)])\n",
    "plt.ylabel('Score(moving average)')\n",
    "plt.xlabel('Episode #')\n",
    "plt.savefig('result_average.png')"
   ]
  },
  {
   "cell_type": "code",
   "execution_count": 17,
   "metadata": {},
   "outputs": [
    {
     "name": "stdout",
     "output_type": "stream",
     "text": [
      "0\n",
      "20\n",
      "40\n",
      "60\n",
      "80\n",
      "Score: 0.7292000110540539\n"
     ]
    }
   ],
   "source": [
    "#final result\n",
    "\n",
    "num_play = 100\n",
    "\n",
    "# load the weights from file\n",
    "agent.actor_local.load_state_dict(torch.load('checkpoint_actor.pth'))\n",
    "agent.critic_local.load_state_dict(torch.load('checkpoint_critic.pth'))\n",
    "\n",
    "scores = np.zeros(num_agents)                          # initialize the score\n",
    "for i in range(num_play):\n",
    "    env_info = env.reset(train_mode=True)[brain_name]  # reset the environment\n",
    "    states = env_info.vector_observations              # get the current state\n",
    "    while True:\n",
    "        actions = agent.act(states)                    # select an action\n",
    "        env_info = env.step(actions)[brain_name]       # send the action to the environment\n",
    "        next_states = env_info.vector_observations     # get the next state\n",
    "        rewards = env_info.rewards                     # get the reward\n",
    "        dones = env_info.local_done                    # see if episode has finished\n",
    "        scores += rewards                              # update the score\n",
    "        states = next_states                           # roll over the state to next time step\n",
    "        if np.any(dones):                              # exit loop if episode finished\n",
    "            break\n",
    "    if i % 20 == 0:\n",
    "        print(i)\n",
    "    \n",
    "print(\"Score: {}\".format(np.mean(scores)/num_play))\n"
   ]
  },
  {
   "cell_type": "code",
   "execution_count": 18,
   "metadata": {},
   "outputs": [],
   "source": [
    "env.close()"
   ]
  }
 ],
 "metadata": {
  "kernelspec": {
   "display_name": "Python 3",
   "language": "python",
   "name": "python3"
  },
  "language_info": {
   "codemirror_mode": {
    "name": "ipython",
    "version": 3
   },
   "file_extension": ".py",
   "mimetype": "text/x-python",
   "name": "python",
   "nbconvert_exporter": "python",
   "pygments_lexer": "ipython3",
   "version": "3.6.3"
  }
 },
 "nbformat": 4,
 "nbformat_minor": 2
}
